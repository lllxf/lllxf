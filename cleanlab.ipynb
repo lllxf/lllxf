{
 "cells": [
  {
   "cell_type": "code",
   "execution_count": 1,
   "id": "db092fb9",
   "metadata": {
    "collapsed": true
   },
   "outputs": [
    {
     "name": "stdout",
     "output_type": "stream",
     "text": [
      "Defaulting to user installation because normal site-packages is not writeable\n",
      "Requirement already satisfied: matplotlib in d:\\anaconda\\lib\\site-packages (3.5.1)\n",
      "Requirement already satisfied: torch in c:\\users\\21741\\appdata\\roaming\\python\\python39\\site-packages (1.12.1)\n",
      "Requirement already satisfied: torchvision in c:\\users\\21741\\appdata\\roaming\\python\\python39\\site-packages (0.13.1)\n",
      "Collecting skorch\n",
      "  Downloading skorch-0.12.1-py3-none-any.whl (193 kB)\n",
      "Requirement already satisfied: cycler>=0.10 in d:\\anaconda\\lib\\site-packages (from matplotlib) (0.11.0)\n",
      "Requirement already satisfied: numpy>=1.17 in d:\\anaconda\\lib\\site-packages (from matplotlib) (1.21.5)\n",
      "Requirement already satisfied: pillow>=6.2.0 in d:\\anaconda\\lib\\site-packages (from matplotlib) (9.0.1)\n",
      "Requirement already satisfied: packaging>=20.0 in d:\\anaconda\\lib\\site-packages (from matplotlib) (21.3)\n",
      "Requirement already satisfied: pyparsing>=2.2.1 in d:\\anaconda\\lib\\site-packages (from matplotlib) (3.0.4)\n",
      "Requirement already satisfied: fonttools>=4.22.0 in d:\\anaconda\\lib\\site-packages (from matplotlib) (4.25.0)\n",
      "Requirement already satisfied: kiwisolver>=1.0.1 in d:\\anaconda\\lib\\site-packages (from matplotlib) (1.3.2)\n",
      "Requirement already satisfied: python-dateutil>=2.7 in d:\\anaconda\\lib\\site-packages (from matplotlib) (2.8.2)\n",
      "Requirement already satisfied: typing-extensions in d:\\anaconda\\lib\\site-packages (from torch) (4.1.1)\n",
      "Requirement already satisfied: requests in d:\\anaconda\\lib\\site-packages (from torchvision) (2.27.1)\n",
      "Requirement already satisfied: scikit-learn>=0.22.0 in d:\\anaconda\\lib\\site-packages (from skorch) (1.0.2)\n",
      "Requirement already satisfied: scipy>=1.1.0 in d:\\anaconda\\lib\\site-packages (from skorch) (1.7.3)\n",
      "Requirement already satisfied: tabulate>=0.7.7 in d:\\anaconda\\lib\\site-packages (from skorch) (0.8.9)\n",
      "Requirement already satisfied: tqdm>=4.14.0 in d:\\anaconda\\lib\\site-packages (from skorch) (4.64.0)\n",
      "Requirement already satisfied: six>=1.5 in d:\\anaconda\\lib\\site-packages (from python-dateutil>=2.7->matplotlib) (1.16.0)\n",
      "Requirement already satisfied: threadpoolctl>=2.0.0 in d:\\anaconda\\lib\\site-packages (from scikit-learn>=0.22.0->skorch) (2.2.0)\n",
      "Requirement already satisfied: joblib>=0.11 in d:\\anaconda\\lib\\site-packages (from scikit-learn>=0.22.0->skorch) (1.1.0)\n",
      "Requirement already satisfied: colorama in d:\\anaconda\\lib\\site-packages (from tqdm>=4.14.0->skorch) (0.4.4)\n",
      "Requirement already satisfied: charset-normalizer~=2.0.0 in d:\\anaconda\\lib\\site-packages (from requests->torchvision) (2.0.4)\n",
      "Requirement already satisfied: certifi>=2017.4.17 in d:\\anaconda\\lib\\site-packages (from requests->torchvision) (2021.10.8)\n",
      "Requirement already satisfied: idna<4,>=2.5 in d:\\anaconda\\lib\\site-packages (from requests->torchvision) (3.3)\n",
      "Requirement already satisfied: urllib3<1.27,>=1.21.1 in d:\\anaconda\\lib\\site-packages (from requests->torchvision) (1.26.9)\n",
      "Installing collected packages: skorch\n",
      "Successfully installed skorch-0.12.1\n"
     ]
    }
   ],
   "source": [
    "!pip install matplotlib torch torchvision skorch\n",
    "!pip install cleanlab"
   ]
  },
  {
   "cell_type": "code",
   "execution_count": 2,
   "id": "8d258471",
   "metadata": {},
   "outputs": [],
   "source": [
    "import torch\n",
    "from torch import nn\n",
    "from sklearn.datasets import fetch_openml\n",
    "from sklearn.model_selection import cross_val_predict\n",
    "from sklearn.metrics import accuracy_score\n",
    "from skorch import NeuralNetClassifier"
   ]
  },
  {
   "cell_type": "code",
   "execution_count": 3,
   "id": "4a82657d",
   "metadata": {},
   "outputs": [],
   "source": [
    "mnist = fetch_openml(\"mnist_784\")  # Fetch the MNIST dataset\n",
    "\n",
    "X = mnist.data.astype(\"float32\").to_numpy() # 2D array (images are flattened into 1D)\n",
    "X /= 255.0  # Scale the features to the [0, 1] range\n",
    "X = X.reshape(len(X), 1, 28, 28)  # reshape into [N, C, H, W] for PyTorch\n",
    "\n",
    "labels = mnist.target.astype(\"int64\").to_numpy()  # 1D array of given labels"
   ]
  },
  {
   "cell_type": "code",
   "execution_count": 5,
   "id": "56c015fe",
   "metadata": {},
   "outputs": [],
   "source": [
    "class ClassifierModule(nn.Module):\n",
    "    def __init__(self):\n",
    "        super().__init__()\n",
    "\n",
    "        self.cnn = nn.Sequential(\n",
    "            nn.Conv2d(1, 6, 3),\n",
    "            nn.ReLU(),\n",
    "            nn.BatchNorm2d(6),\n",
    "            nn.MaxPool2d(kernel_size=2, stride=2),\n",
    "            nn.Conv2d(6, 16, 3),\n",
    "            nn.ReLU(),\n",
    "            nn.BatchNorm2d(16),\n",
    "            nn.MaxPool2d(kernel_size=2, stride=2),\n",
    "        )\n",
    "        self.out = nn.Sequential(\n",
    "            nn.Flatten(),\n",
    "            nn.LazyLinear(128),\n",
    "            nn.ReLU(),\n",
    "            nn.Linear(128, 10),\n",
    "            nn.Softmax(dim=-1),\n",
    "        )\n",
    "\n",
    "    def forward(self, X):\n",
    "        X = self.cnn(X)\n",
    "        X = self.out(X)\n",
    "        return X"
   ]
  },
  {
   "cell_type": "code",
   "execution_count": 6,
   "id": "653168e7",
   "metadata": {},
   "outputs": [],
   "source": [
    "model_skorch = NeuralNetClassifier(ClassifierModule)"
   ]
  },
  {
   "cell_type": "code",
   "execution_count": 64,
   "id": "cf21c8e7",
   "metadata": {
    "collapsed": true
   },
   "outputs": [
    {
     "name": "stderr",
     "output_type": "stream",
     "text": [
      "C:\\Users\\21741\\AppData\\Roaming\\Python\\Python39\\site-packages\\torch\\nn\\modules\\lazy.py:178: UserWarning: Lazy modules are a new feature under heavy development so changes to the API or functionality can happen at any moment.\n",
      "  warnings.warn('Lazy modules are a new feature under heavy development '\n"
     ]
    },
    {
     "name": "stdout",
     "output_type": "stream",
     "text": [
      "  epoch    train_loss    valid_acc    valid_loss     dur\n",
      "-------  ------------  -----------  ------------  ------\n",
      "      1        \u001b[36m0.6360\u001b[0m       \u001b[32m0.9303\u001b[0m        \u001b[35m0.2534\u001b[0m  3.6959\n",
      "      2        \u001b[36m0.1843\u001b[0m       \u001b[32m0.9519\u001b[0m        \u001b[35m0.1695\u001b[0m  3.5034\n",
      "      3        \u001b[36m0.1363\u001b[0m       \u001b[32m0.9614\u001b[0m        \u001b[35m0.1352\u001b[0m  3.6173\n",
      "      4        \u001b[36m0.1122\u001b[0m       \u001b[32m0.9669\u001b[0m        \u001b[35m0.1148\u001b[0m  3.5866\n",
      "      5        \u001b[36m0.0967\u001b[0m       \u001b[32m0.9699\u001b[0m        \u001b[35m0.1015\u001b[0m  3.5564\n",
      "      6        \u001b[36m0.0857\u001b[0m       \u001b[32m0.9721\u001b[0m        \u001b[35m0.0919\u001b[0m  3.4543\n",
      "      7        \u001b[36m0.0774\u001b[0m       \u001b[32m0.9741\u001b[0m        \u001b[35m0.0847\u001b[0m  3.4070\n",
      "      8        \u001b[36m0.0709\u001b[0m       \u001b[32m0.9747\u001b[0m        \u001b[35m0.0793\u001b[0m  3.4113\n",
      "      9        \u001b[36m0.0656\u001b[0m       \u001b[32m0.9762\u001b[0m        \u001b[35m0.0749\u001b[0m  3.4264\n",
      "     10        \u001b[36m0.0611\u001b[0m       \u001b[32m0.9767\u001b[0m        \u001b[35m0.0716\u001b[0m  3.4620\n"
     ]
    },
    {
     "name": "stderr",
     "output_type": "stream",
     "text": [
      "C:\\Users\\21741\\AppData\\Roaming\\Python\\Python39\\site-packages\\torch\\nn\\modules\\lazy.py:178: UserWarning: Lazy modules are a new feature under heavy development so changes to the API or functionality can happen at any moment.\n",
      "  warnings.warn('Lazy modules are a new feature under heavy development '\n"
     ]
    },
    {
     "name": "stdout",
     "output_type": "stream",
     "text": [
      "  epoch    train_loss    valid_acc    valid_loss     dur\n",
      "-------  ------------  -----------  ------------  ------\n",
      "      1        \u001b[36m0.6177\u001b[0m       \u001b[32m0.9431\u001b[0m        \u001b[35m0.2149\u001b[0m  3.3375\n",
      "      2        \u001b[36m0.1645\u001b[0m       \u001b[32m0.9605\u001b[0m        \u001b[35m0.1433\u001b[0m  3.3730\n",
      "      3        \u001b[36m0.1183\u001b[0m       \u001b[32m0.9681\u001b[0m        \u001b[35m0.1164\u001b[0m  3.3958\n",
      "      4        \u001b[36m0.0963\u001b[0m       \u001b[32m0.9707\u001b[0m        \u001b[35m0.1017\u001b[0m  3.3597\n",
      "      5        \u001b[36m0.0827\u001b[0m       \u001b[32m0.9733\u001b[0m        \u001b[35m0.0923\u001b[0m  3.3050\n",
      "      6        \u001b[36m0.0732\u001b[0m       \u001b[32m0.9751\u001b[0m        \u001b[35m0.0859\u001b[0m  3.3422\n",
      "      7        \u001b[36m0.0662\u001b[0m       \u001b[32m0.9760\u001b[0m        \u001b[35m0.0813\u001b[0m  3.2616\n",
      "      8        \u001b[36m0.0608\u001b[0m       \u001b[32m0.9772\u001b[0m        \u001b[35m0.0780\u001b[0m  3.3434\n",
      "      9        \u001b[36m0.0563\u001b[0m       \u001b[32m0.9779\u001b[0m        \u001b[35m0.0749\u001b[0m  3.3297\n",
      "     10        \u001b[36m0.0526\u001b[0m       \u001b[32m0.9787\u001b[0m        \u001b[35m0.0726\u001b[0m  3.3529\n"
     ]
    },
    {
     "name": "stderr",
     "output_type": "stream",
     "text": [
      "C:\\Users\\21741\\AppData\\Roaming\\Python\\Python39\\site-packages\\torch\\nn\\modules\\lazy.py:178: UserWarning: Lazy modules are a new feature under heavy development so changes to the API or functionality can happen at any moment.\n",
      "  warnings.warn('Lazy modules are a new feature under heavy development '\n"
     ]
    },
    {
     "name": "stdout",
     "output_type": "stream",
     "text": [
      "  epoch    train_loss    valid_acc    valid_loss     dur\n",
      "-------  ------------  -----------  ------------  ------\n",
      "      1        \u001b[36m0.6244\u001b[0m       \u001b[32m0.9383\u001b[0m        \u001b[35m0.2342\u001b[0m  3.4210\n",
      "      2        \u001b[36m0.1770\u001b[0m       \u001b[32m0.9566\u001b[0m        \u001b[35m0.1569\u001b[0m  3.3216\n",
      "      3        \u001b[36m0.1305\u001b[0m       \u001b[32m0.9629\u001b[0m        \u001b[35m0.1287\u001b[0m  3.3424\n",
      "      4        \u001b[36m0.1081\u001b[0m       \u001b[32m0.9656\u001b[0m        \u001b[35m0.1126\u001b[0m  3.3008\n",
      "      5        \u001b[36m0.0939\u001b[0m       \u001b[32m0.9680\u001b[0m        \u001b[35m0.1018\u001b[0m  3.3698\n",
      "      6        \u001b[36m0.0836\u001b[0m       \u001b[32m0.9710\u001b[0m        \u001b[35m0.0942\u001b[0m  3.3827\n",
      "      7        \u001b[36m0.0756\u001b[0m       \u001b[32m0.9741\u001b[0m        \u001b[35m0.0882\u001b[0m  3.3885\n",
      "      8        \u001b[36m0.0693\u001b[0m       \u001b[32m0.9757\u001b[0m        \u001b[35m0.0833\u001b[0m  3.3498\n",
      "      9        \u001b[36m0.0640\u001b[0m       \u001b[32m0.9762\u001b[0m        \u001b[35m0.0793\u001b[0m  3.3412\n",
      "     10        \u001b[36m0.0596\u001b[0m       \u001b[32m0.9767\u001b[0m        \u001b[35m0.0762\u001b[0m  3.3125\n"
     ]
    },
    {
     "name": "stderr",
     "output_type": "stream",
     "text": [
      "C:\\Users\\21741\\AppData\\Roaming\\Python\\Python39\\site-packages\\torch\\nn\\modules\\lazy.py:178: UserWarning: Lazy modules are a new feature under heavy development so changes to the API or functionality can happen at any moment.\n",
      "  warnings.warn('Lazy modules are a new feature under heavy development '\n"
     ]
    },
    {
     "name": "stdout",
     "output_type": "stream",
     "text": [
      "  epoch    train_loss    valid_acc    valid_loss     dur\n",
      "-------  ------------  -----------  ------------  ------\n",
      "      1        \u001b[36m0.6711\u001b[0m       \u001b[32m0.9304\u001b[0m        \u001b[35m0.2570\u001b[0m  3.4563\n",
      "      2        \u001b[36m0.1932\u001b[0m       \u001b[32m0.9508\u001b[0m        \u001b[35m0.1687\u001b[0m  3.4353\n",
      "      3        \u001b[36m0.1384\u001b[0m       \u001b[32m0.9597\u001b[0m        \u001b[35m0.1358\u001b[0m  3.3217\n",
      "      4        \u001b[36m0.1121\u001b[0m       \u001b[32m0.9653\u001b[0m        \u001b[35m0.1165\u001b[0m  3.4012\n",
      "      5        \u001b[36m0.0957\u001b[0m       \u001b[32m0.9687\u001b[0m        \u001b[35m0.1046\u001b[0m  3.3082\n",
      "      6        \u001b[36m0.0844\u001b[0m       \u001b[32m0.9708\u001b[0m        \u001b[35m0.0955\u001b[0m  3.3453\n",
      "      7        \u001b[36m0.0760\u001b[0m       \u001b[32m0.9736\u001b[0m        \u001b[35m0.0892\u001b[0m  3.3084\n",
      "      8        \u001b[36m0.0693\u001b[0m       \u001b[32m0.9740\u001b[0m        \u001b[35m0.0846\u001b[0m  3.3638\n",
      "      9        \u001b[36m0.0641\u001b[0m       \u001b[32m0.9751\u001b[0m        \u001b[35m0.0809\u001b[0m  3.2832\n",
      "     10        \u001b[36m0.0597\u001b[0m       \u001b[32m0.9765\u001b[0m        \u001b[35m0.0778\u001b[0m  3.3435\n"
     ]
    },
    {
     "name": "stderr",
     "output_type": "stream",
     "text": [
      "C:\\Users\\21741\\AppData\\Roaming\\Python\\Python39\\site-packages\\torch\\nn\\modules\\lazy.py:178: UserWarning: Lazy modules are a new feature under heavy development so changes to the API or functionality can happen at any moment.\n",
      "  warnings.warn('Lazy modules are a new feature under heavy development '\n"
     ]
    },
    {
     "name": "stdout",
     "output_type": "stream",
     "text": [
      "  epoch    train_loss    valid_acc    valid_loss     dur\n",
      "-------  ------------  -----------  ------------  ------\n",
      "      1        \u001b[36m0.7469\u001b[0m       \u001b[32m0.9293\u001b[0m        \u001b[35m0.2760\u001b[0m  3.3262\n",
      "      2        \u001b[36m0.2266\u001b[0m       \u001b[32m0.9516\u001b[0m        \u001b[35m0.1790\u001b[0m  3.3244\n",
      "      3        \u001b[36m0.1584\u001b[0m       \u001b[32m0.9596\u001b[0m        \u001b[35m0.1416\u001b[0m  3.3599\n",
      "      4        \u001b[36m0.1260\u001b[0m       \u001b[32m0.9655\u001b[0m        \u001b[35m0.1197\u001b[0m  3.3379\n",
      "      5        \u001b[36m0.1058\u001b[0m       \u001b[32m0.9698\u001b[0m        \u001b[35m0.1050\u001b[0m  3.3546\n",
      "      6        \u001b[36m0.0919\u001b[0m       \u001b[32m0.9718\u001b[0m        \u001b[35m0.0958\u001b[0m  3.3421\n",
      "      7        \u001b[36m0.0816\u001b[0m       \u001b[32m0.9739\u001b[0m        \u001b[35m0.0887\u001b[0m  3.3370\n",
      "      8        \u001b[36m0.0737\u001b[0m       \u001b[32m0.9753\u001b[0m        \u001b[35m0.0835\u001b[0m  3.3632\n",
      "      9        \u001b[36m0.0674\u001b[0m       \u001b[32m0.9767\u001b[0m        \u001b[35m0.0793\u001b[0m  3.3569\n",
      "     10        \u001b[36m0.0623\u001b[0m       \u001b[32m0.9771\u001b[0m        \u001b[35m0.0756\u001b[0m  3.3335\n"
     ]
    }
   ],
   "source": [
    "num_crossval_folds = 5  # for efficiency; values like 5 or 10 will generally work better\n",
    "pred_probs = cross_val_predict(\n",
    "    model_skorch,\n",
    "    X,\n",
    "    labels,\n",
    "    cv=num_crossval_folds,\n",
    "    method=\"predict_proba\",\n",
    ")"
   ]
  },
  {
   "cell_type": "code",
   "execution_count": 65,
   "id": "efe2d1b9",
   "metadata": {},
   "outputs": [
    {
     "name": "stdout",
     "output_type": "stream",
     "text": [
      "Cross-validated estimate of accuracy on held-out data: 0.9787714285714286\n"
     ]
    }
   ],
   "source": [
    "predicted_labels = pred_probs.argmax(axis=1)\n",
    "acc = accuracy_score(labels, predicted_labels)\n",
    "print(f\"Cross-validated estimate of accuracy on held-out data: {acc}\")"
   ]
  },
  {
   "cell_type": "code",
   "execution_count": 66,
   "id": "1ca61eaa",
   "metadata": {},
   "outputs": [
    {
     "name": "stdout",
     "output_type": "stream",
     "text": [
      "Cleanlab found 105 label issues.\n",
      "Top 15 most likely label errors: \n",
      " [59915 32776  8729 16376 24798 49543 53216 26748 43658  8200 63520  7010\n",
      "  2720 69770  2676]\n"
     ]
    }
   ],
   "source": [
    "from cleanlab.filter import find_label_issues\n",
    "\n",
    "ranked_label_issues = find_label_issues(\n",
    "    labels,\n",
    "    pred_probs,\n",
    "    return_indices_ranked_by=\"self_confidence\",\n",
    ")\n",
    "\n",
    "print(f\"Cleanlab found {len(ranked_label_issues)} label issues.\")\n",
    "print(f\"Top 15 most likely label errors: \\n {ranked_label_issues[:15]}\")"
   ]
  },
  {
   "cell_type": "code",
   "execution_count": 73,
   "id": "85603ece",
   "metadata": {},
   "outputs": [],
   "source": [
    "# Note: This pulldown content is for docs.cleanlab.ai, if running on local Jupyter or Colab, please ignore it.\n",
    "\n",
    "import matplotlib.pyplot as plt\n",
    "\n",
    "def plot_examples(id_iter, nrows=1, ncols=1):\n",
    "    for count, id in enumerate(id_iter):\n",
    "        plt.subplot(nrows, ncols, count + 1)\n",
    "        plt.imshow(X[id].reshape(28, 28), cmap=\"gray\")\n",
    "        plt.title(f\"id: {id} \\n label: {predicted_labels[id]}\")\n",
    "        plt.axis(\"off\")\n",
    "\n",
    "    plt.tight_layout(h_pad=2.0)"
   ]
  },
  {
   "cell_type": "code",
   "execution_count": 74,
   "id": "1bc2e462",
   "metadata": {},
   "outputs": [
    {
     "data": {
      "image/png": "[encoded data removed]",
      "text/plain": [
       "<Figure size 432x288 with 15 Axes>"
      ]
     },
     "metadata": {
      "needs_background": "light"
     },
     "output_type": "display_data"
    }
   ],
   "source": [
    "plot_examples(ranked_label_issues[range(15)], 3, 5)"
   ]
  },
  {
   "cell_type": "code",
   "execution_count": 75,
   "id": "836a8163",
   "metadata": {},
   "outputs": [
    {
     "data": {
      "image/png": "[encoded data removed]",
      "text/plain": [
       "<Figure size 432x288 with 1 Axes>"
      ]
     },
     "metadata": {
      "needs_background": "light"
     },
     "output_type": "display_data"
    }
   ],
   "source": [
    "plot_examples([59915])"
   ]
  },
  {
   "cell_type": "code",
   "execution_count": 77,
   "id": "7dc235e7",
   "metadata": {},
   "outputs": [
    {
     "data": {
      "image/png": "[encoded data removed]",
      "text/plain": [
       "<Figure size 432x288 with 1 Axes>"
      ]
     },
     "metadata": {
      "needs_background": "light"
     },
     "output_type": "display_data"
    }
   ],
   "source": [
    "plot_examples([32776])"
   ]
  },
  {
   "cell_type": "code",
   "execution_count": null,
   "id": "c907db5c",
   "metadata": {},
   "outputs": [],
   "source": []
  },
  {
   "cell_type": "code",
   "execution_count": null,
   "id": "f038e554",
   "metadata": {},
   "outputs": [],
   "source": []
  }
 ],
 "metadata": {
  "kernelspec": {
   "display_name": "Python 3 (ipykernel)",
   "language": "python",
   "name": "python3"
  },
  "language_info": {
   "codemirror_mode": {
    "name": "ipython",
    "version": 3
   },
   "file_extension": ".py",
   "mimetype": "text/x-python",
   "name": "python",
   "nbconvert_exporter": "python",
   "pygments_lexer": "ipython3",
   "version": "3.9.12"
  }
 },
 "nbformat": 4,
 "nbformat_minor": 5
}
